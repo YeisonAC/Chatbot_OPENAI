{
 "cells": [
  {
   "cell_type": "code",
   "execution_count": 11,
   "metadata": {},
   "outputs": [],
   "source": [
    "import openai\n",
    "import os\n",
    "openai.api_key = os.environ.get('OPENAI_API_KEY')"
   ]
  },
  {
   "cell_type": "code",
   "execution_count": 27,
   "metadata": {},
   "outputs": [],
   "source": [
    "import random\n",
    "\n",
    "def get_clue():\n",
    "    animals = [\"Elephant\", \"Dog\", \"Cat\", \"Bird\", \"Shark\", \"Fish\", \"Lion\"]\n",
    "    random_animal = random.choice(animals)\n",
    "    prompt = 'The animal is so huge'\n",
    "    return prompt, random_animal"
   ]
  },
  {
   "cell_type": "code",
   "execution_count": 28,
   "metadata": {},
   "outputs": [],
   "source": [
    "def check_answer(user_input, random_animal):\n",
    "    if user_input == random_animal:\n",
    "        return True\n",
    "    return False"
   ]
  },
  {
   "cell_type": "code",
   "execution_count": 29,
   "metadata": {},
   "outputs": [],
   "source": [
    "def give_properties(animal):\n",
    "    reponse = openai.Completion.create(\n",
    "        engine = 'text-davinci-003',\n",
    "        prompt = 'Give me a characteristic of the animal' + animal + 'But, dont tell me witch is the animal',\n",
    "        max_tokens = 100)\n",
    "    return reponse.choices[0].text"
   ]
  },
  {
   "cell_type": "code",
   "execution_count": 30,
   "metadata": {},
   "outputs": [],
   "source": [
    "def play_game():\n",
    "    prompt, answer = get_clue(\n",
    "        \n",
    "    )\n",
    "    print(prompt)\n",
    "    while True:\n",
    "        user_input = input('Insert here your answer: ')\n",
    "        if check_answer(user_input, answer):\n",
    "            print('Your answer is correct, the answer was', answer)\n",
    "            break\n",
    "        else:\n",
    "            print('Incorrect answer, try again')\n",
    "            print(give_properties(answer))"
   ]
  },
  {
   "cell_type": "code",
   "execution_count": 31,
   "metadata": {},
   "outputs": [
    {
     "name": "stdout",
     "output_type": "stream",
     "text": [
      "The animal is so huge\n",
      "Your answer is correct, the answer was Lion\n"
     ]
    }
   ],
   "source": [
    "play_game()"
   ]
  },
  {
   "cell_type": "code",
   "execution_count": null,
   "metadata": {},
   "outputs": [],
   "source": []
  },
  {
   "cell_type": "code",
   "execution_count": null,
   "metadata": {},
   "outputs": [],
   "source": []
  },
  {
   "cell_type": "code",
   "execution_count": null,
   "metadata": {},
   "outputs": [],
   "source": []
  },
  {
   "cell_type": "code",
   "execution_count": null,
   "metadata": {},
   "outputs": [],
   "source": []
  },
  {
   "cell_type": "code",
   "execution_count": null,
   "metadata": {},
   "outputs": [],
   "source": []
  }
 ],
 "metadata": {
  "kernelspec": {
   "display_name": "Chatbots_OPENAI-wvpCnt3w",
   "language": "python",
   "name": "python3"
  },
  "language_info": {
   "codemirror_mode": {
    "name": "ipython",
    "version": 3
   },
   "file_extension": ".py",
   "mimetype": "text/x-python",
   "name": "python",
   "nbconvert_exporter": "python",
   "pygments_lexer": "ipython3",
   "version": "3.10.0"
  },
  "orig_nbformat": 4
 },
 "nbformat": 4,
 "nbformat_minor": 2
}
